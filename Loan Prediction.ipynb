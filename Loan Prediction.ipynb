{
 "cells": [
  {
   "cell_type": "code",
   "execution_count": 1,
   "id": "bd76049f",
   "metadata": {},
   "outputs": [],
   "source": [
    "import numpy as np\n",
    "import pandas as pd\n",
    "import matplotlib.pyplot as plt\n",
    "import seaborn as sns"
   ]
  },
  {
   "cell_type": "code",
   "execution_count": 2,
   "id": "e9b6716b",
   "metadata": {},
   "outputs": [
    {
     "name": "stdout",
     "output_type": "stream",
     "text": [
      "<class 'pandas.core.frame.DataFrame'>\n",
      "RangeIndex: 4269 entries, 0 to 4268\n",
      "Data columns (total 13 columns):\n",
      " #   Column                     Non-Null Count  Dtype \n",
      "---  ------                     --------------  ----- \n",
      " 0   loan_id                    4269 non-null   int64 \n",
      " 1    no_of_dependents          4269 non-null   int64 \n",
      " 2    education                 4269 non-null   object\n",
      " 3    self_employed             4269 non-null   object\n",
      " 4    income_annum              4269 non-null   int64 \n",
      " 5    loan_amount               4269 non-null   int64 \n",
      " 6    loan_term                 4269 non-null   int64 \n",
      " 7    cibil_score               4269 non-null   int64 \n",
      " 8    residential_assets_value  4269 non-null   int64 \n",
      " 9    commercial_assets_value   4269 non-null   int64 \n",
      " 10   luxury_assets_value       4269 non-null   int64 \n",
      " 11   bank_asset_value          4269 non-null   int64 \n",
      " 12   loan_status               4269 non-null   object\n",
      "dtypes: int64(10), object(3)\n",
      "memory usage: 433.7+ KB\n"
     ]
    }
   ],
   "source": [
    "df = pd.read_csv('loan_approval_dataset.mini.csv')\n",
    "df.info()"
   ]
  },
  {
   "cell_type": "code",
   "execution_count": 3,
   "id": "7e5983db",
   "metadata": {},
   "outputs": [
    {
     "data": {
      "text/plain": [
       "loan_id                      0\n",
       " no_of_dependents            0\n",
       " education                   0\n",
       " self_employed               0\n",
       " income_annum                0\n",
       " loan_amount                 0\n",
       " loan_term                   0\n",
       " cibil_score                 0\n",
       " residential_assets_value    0\n",
       " commercial_assets_value     0\n",
       " luxury_assets_value         0\n",
       " bank_asset_value            0\n",
       " loan_status                 0\n",
       "dtype: int64"
      ]
     },
     "execution_count": 3,
     "metadata": {},
     "output_type": "execute_result"
    }
   ],
   "source": [
    "df.isnull().sum()"
   ]
  },
  {
   "cell_type": "code",
   "execution_count": 4,
   "id": "4a532cf9",
   "metadata": {},
   "outputs": [
    {
     "name": "stdout",
     "output_type": "stream",
     "text": [
      "Index(['loan_id', ' no_of_dependents', ' education', ' self_employed',\n",
      "       ' income_annum', ' loan_amount', ' loan_term', ' cibil_score',\n",
      "       ' residential_assets_value', ' commercial_assets_value',\n",
      "       ' luxury_assets_value', ' bank_asset_value', ' loan_status'],\n",
      "      dtype='object')\n",
      "[' No' ' Yes']\n",
      "[' Graduate' ' Not Graduate']\n",
      "[' Approved' ' Rejected']\n"
     ]
    }
   ],
   "source": [
    "print(df.columns)\n",
    "print(df[' self_employed'].unique())\n",
    "print(df[' education'].unique())\n",
    "print(df[' loan_status'].unique())\n"
   ]
  },
  {
   "cell_type": "code",
   "execution_count": 5,
   "id": "2a922465",
   "metadata": {},
   "outputs": [
    {
     "data": {
      "text/html": [
       "<div>\n",
       "<style scoped>\n",
       "    .dataframe tbody tr th:only-of-type {\n",
       "        vertical-align: middle;\n",
       "    }\n",
       "\n",
       "    .dataframe tbody tr th {\n",
       "        vertical-align: top;\n",
       "    }\n",
       "\n",
       "    .dataframe thead th {\n",
       "        text-align: right;\n",
       "    }\n",
       "</style>\n",
       "<table border=\"1\" class=\"dataframe\">\n",
       "  <thead>\n",
       "    <tr style=\"text-align: right;\">\n",
       "      <th></th>\n",
       "      <th>loan_id</th>\n",
       "      <th>no_of_dependents</th>\n",
       "      <th>education</th>\n",
       "      <th>self_employed</th>\n",
       "      <th>income_annum</th>\n",
       "      <th>loan_amount</th>\n",
       "      <th>loan_term</th>\n",
       "      <th>cibil_score</th>\n",
       "      <th>residential_assets_value</th>\n",
       "      <th>commercial_assets_value</th>\n",
       "      <th>luxury_assets_value</th>\n",
       "      <th>bank_asset_value</th>\n",
       "      <th>loan_status</th>\n",
       "    </tr>\n",
       "  </thead>\n",
       "  <tbody>\n",
       "    <tr>\n",
       "      <th>0</th>\n",
       "      <td>1</td>\n",
       "      <td>2</td>\n",
       "      <td>1</td>\n",
       "      <td>0</td>\n",
       "      <td>9600000</td>\n",
       "      <td>29900000</td>\n",
       "      <td>12</td>\n",
       "      <td>778</td>\n",
       "      <td>2400000</td>\n",
       "      <td>17600000</td>\n",
       "      <td>22700000</td>\n",
       "      <td>8000000</td>\n",
       "      <td>0</td>\n",
       "    </tr>\n",
       "    <tr>\n",
       "      <th>1</th>\n",
       "      <td>2</td>\n",
       "      <td>0</td>\n",
       "      <td>0</td>\n",
       "      <td>1</td>\n",
       "      <td>4100000</td>\n",
       "      <td>12200000</td>\n",
       "      <td>8</td>\n",
       "      <td>417</td>\n",
       "      <td>2700000</td>\n",
       "      <td>2200000</td>\n",
       "      <td>8800000</td>\n",
       "      <td>3300000</td>\n",
       "      <td>1</td>\n",
       "    </tr>\n",
       "    <tr>\n",
       "      <th>2</th>\n",
       "      <td>3</td>\n",
       "      <td>3</td>\n",
       "      <td>1</td>\n",
       "      <td>0</td>\n",
       "      <td>9100000</td>\n",
       "      <td>29700000</td>\n",
       "      <td>20</td>\n",
       "      <td>506</td>\n",
       "      <td>7100000</td>\n",
       "      <td>4500000</td>\n",
       "      <td>33300000</td>\n",
       "      <td>12800000</td>\n",
       "      <td>1</td>\n",
       "    </tr>\n",
       "    <tr>\n",
       "      <th>3</th>\n",
       "      <td>4</td>\n",
       "      <td>3</td>\n",
       "      <td>1</td>\n",
       "      <td>0</td>\n",
       "      <td>8200000</td>\n",
       "      <td>30700000</td>\n",
       "      <td>8</td>\n",
       "      <td>467</td>\n",
       "      <td>18200000</td>\n",
       "      <td>3300000</td>\n",
       "      <td>23300000</td>\n",
       "      <td>7900000</td>\n",
       "      <td>1</td>\n",
       "    </tr>\n",
       "    <tr>\n",
       "      <th>4</th>\n",
       "      <td>5</td>\n",
       "      <td>5</td>\n",
       "      <td>0</td>\n",
       "      <td>1</td>\n",
       "      <td>9800000</td>\n",
       "      <td>24200000</td>\n",
       "      <td>20</td>\n",
       "      <td>382</td>\n",
       "      <td>12400000</td>\n",
       "      <td>8200000</td>\n",
       "      <td>29400000</td>\n",
       "      <td>5000000</td>\n",
       "      <td>1</td>\n",
       "    </tr>\n",
       "  </tbody>\n",
       "</table>\n",
       "</div>"
      ],
      "text/plain": [
       "   loan_id   no_of_dependents   education   self_employed   income_annum  \\\n",
       "0        1                  2           1               0        9600000   \n",
       "1        2                  0           0               1        4100000   \n",
       "2        3                  3           1               0        9100000   \n",
       "3        4                  3           1               0        8200000   \n",
       "4        5                  5           0               1        9800000   \n",
       "\n",
       "    loan_amount   loan_term   cibil_score   residential_assets_value  \\\n",
       "0      29900000          12           778                    2400000   \n",
       "1      12200000           8           417                    2700000   \n",
       "2      29700000          20           506                    7100000   \n",
       "3      30700000           8           467                   18200000   \n",
       "4      24200000          20           382                   12400000   \n",
       "\n",
       "    commercial_assets_value   luxury_assets_value   bank_asset_value  \\\n",
       "0                  17600000              22700000            8000000   \n",
       "1                   2200000               8800000            3300000   \n",
       "2                   4500000              33300000           12800000   \n",
       "3                   3300000              23300000            7900000   \n",
       "4                   8200000              29400000            5000000   \n",
       "\n",
       "    loan_status  \n",
       "0             0  \n",
       "1             1  \n",
       "2             1  \n",
       "3             1  \n",
       "4             1  "
      ]
     },
     "execution_count": 5,
     "metadata": {},
     "output_type": "execute_result"
    }
   ],
   "source": [
    "df.replace({\" self_employed\": {\" No\": 0, \" Yes\": 1}}, inplace=True)\n",
    "\n",
    "df.replace({\" education\": {\" Not Graduate\": 0, \" Graduate\": 1}}, inplace=True)\n",
    "\n",
    "df.replace({\" loan_status\": {\" Approved\": 0, \" Rejected\": 1}}, inplace=True)\n",
    "\n",
    "\n",
    "df.head()\n"
   ]
  },
  {
   "cell_type": "markdown",
   "id": "f37e6833",
   "metadata": {},
   "source": [
    "# DATA VISUALISATIION"
   ]
  },
  {
   "cell_type": "code",
   "execution_count": 6,
   "id": "af7c1241",
   "metadata": {},
   "outputs": [
    {
     "data": {
      "text/plain": [
       "<Axes: xlabel=' education', ylabel='count'>"
      ]
     },
     "execution_count": 6,
     "metadata": {},
     "output_type": "execute_result"
    },
    {
     "data": {
      "image/png": "[encoded data removed]",
      "text/plain": [
       "<Figure size 640x480 with 1 Axes>"
      ]
     },
     "metadata": {},
     "output_type": "display_data"
    }
   ],
   "source": [
    "#education and loan status\n",
    "sns.countplot(x=\" education\", hue=\" loan_status\",data=df)"
   ]
  },
  {
   "cell_type": "code",
   "execution_count": 7,
   "id": "24fc48cc",
   "metadata": {},
   "outputs": [],
   "source": [
    "X = df.drop([\" loan_status\",\"loan_id\"], axis=1)\n",
    "y = df[\" loan_status\"]"
   ]
  },
  {
   "cell_type": "code",
   "execution_count": 8,
   "id": "fa199af1",
   "metadata": {},
   "outputs": [],
   "source": [
    "\n",
    "#separate the dataset into train and test so that it can prevent the overfitting\n",
    "from sklearn.model_selection import train_test_split\n",
    "X_train,X_test,y_train,y_test=train_test_split(X,y,test_size=0.3,random_state=42)"
   ]
  },
  {
   "cell_type": "code",
   "execution_count": 9,
   "id": "c5746ae3",
   "metadata": {},
   "outputs": [
    {
     "data": {
      "text/plain": [
       "((2988, 11), (1281, 11))"
      ]
     },
     "execution_count": 9,
     "metadata": {},
     "output_type": "execute_result"
    }
   ],
   "source": [
    "X_train.shape,X_test.shape"
   ]
  },
  {
   "cell_type": "markdown",
   "id": "8fb8686d",
   "metadata": {},
   "source": [
    "# FEATURE SELECTION"
   ]
  },
  {
   "cell_type": "markdown",
   "id": "becb8047",
   "metadata": {},
   "source": [
    "1) CORRELATION COEFFICIENT ->The logic behind using correlation for feature selection is that good variables correlate highly with the target. ->If two variables are correlated, we can predict one from the other. Therefore, if two features are correlated, the model only needs one, as the second does not add additional information. We will use the Pearson Correlation here."
   ]
  },
  {
   "cell_type": "code",
   "execution_count": 10,
   "id": "4117f403",
   "metadata": {},
   "outputs": [
    {
     "data": {
      "text/html": [
       "<div>\n",
       "<style scoped>\n",
       "    .dataframe tbody tr th:only-of-type {\n",
       "        vertical-align: middle;\n",
       "    }\n",
       "\n",
       "    .dataframe tbody tr th {\n",
       "        vertical-align: top;\n",
       "    }\n",
       "\n",
       "    .dataframe thead th {\n",
       "        text-align: right;\n",
       "    }\n",
       "</style>\n",
       "<table border=\"1\" class=\"dataframe\">\n",
       "  <thead>\n",
       "    <tr style=\"text-align: right;\">\n",
       "      <th></th>\n",
       "      <th>no_of_dependents</th>\n",
       "      <th>education</th>\n",
       "      <th>self_employed</th>\n",
       "      <th>income_annum</th>\n",
       "      <th>loan_amount</th>\n",
       "      <th>loan_term</th>\n",
       "      <th>cibil_score</th>\n",
       "      <th>residential_assets_value</th>\n",
       "      <th>commercial_assets_value</th>\n",
       "      <th>luxury_assets_value</th>\n",
       "      <th>bank_asset_value</th>\n",
       "    </tr>\n",
       "  </thead>\n",
       "  <tbody>\n",
       "    <tr>\n",
       "      <th>no_of_dependents</th>\n",
       "      <td>1.000000</td>\n",
       "      <td>-0.010196</td>\n",
       "      <td>0.007422</td>\n",
       "      <td>0.000256</td>\n",
       "      <td>-0.007731</td>\n",
       "      <td>-0.012531</td>\n",
       "      <td>-0.008442</td>\n",
       "      <td>-0.006673</td>\n",
       "      <td>-0.004101</td>\n",
       "      <td>-0.006367</td>\n",
       "      <td>0.005316</td>\n",
       "    </tr>\n",
       "    <tr>\n",
       "      <th>education</th>\n",
       "      <td>-0.010196</td>\n",
       "      <td>1.000000</td>\n",
       "      <td>-0.015505</td>\n",
       "      <td>0.013002</td>\n",
       "      <td>0.011665</td>\n",
       "      <td>-0.008671</td>\n",
       "      <td>-0.003754</td>\n",
       "      <td>0.015495</td>\n",
       "      <td>0.005898</td>\n",
       "      <td>0.015413</td>\n",
       "      <td>0.010710</td>\n",
       "    </tr>\n",
       "    <tr>\n",
       "      <th>self_employed</th>\n",
       "      <td>0.007422</td>\n",
       "      <td>-0.015505</td>\n",
       "      <td>1.000000</td>\n",
       "      <td>0.002045</td>\n",
       "      <td>-0.000249</td>\n",
       "      <td>-0.003858</td>\n",
       "      <td>-0.004163</td>\n",
       "      <td>0.006839</td>\n",
       "      <td>-0.015673</td>\n",
       "      <td>0.002447</td>\n",
       "      <td>-0.005404</td>\n",
       "    </tr>\n",
       "    <tr>\n",
       "      <th>income_annum</th>\n",
       "      <td>0.000256</td>\n",
       "      <td>0.013002</td>\n",
       "      <td>0.002045</td>\n",
       "      <td>1.000000</td>\n",
       "      <td>0.928383</td>\n",
       "      <td>0.017354</td>\n",
       "      <td>-0.036682</td>\n",
       "      <td>0.634352</td>\n",
       "      <td>0.633718</td>\n",
       "      <td>0.928056</td>\n",
       "      <td>0.849639</td>\n",
       "    </tr>\n",
       "    <tr>\n",
       "      <th>loan_amount</th>\n",
       "      <td>-0.007731</td>\n",
       "      <td>0.011665</td>\n",
       "      <td>-0.000249</td>\n",
       "      <td>0.928383</td>\n",
       "      <td>1.000000</td>\n",
       "      <td>0.018343</td>\n",
       "      <td>-0.026847</td>\n",
       "      <td>0.588828</td>\n",
       "      <td>0.590508</td>\n",
       "      <td>0.858396</td>\n",
       "      <td>0.782245</td>\n",
       "    </tr>\n",
       "    <tr>\n",
       "      <th>loan_term</th>\n",
       "      <td>-0.012531</td>\n",
       "      <td>-0.008671</td>\n",
       "      <td>-0.003858</td>\n",
       "      <td>0.017354</td>\n",
       "      <td>0.018343</td>\n",
       "      <td>1.000000</td>\n",
       "      <td>0.008453</td>\n",
       "      <td>0.009412</td>\n",
       "      <td>0.000632</td>\n",
       "      <td>0.017262</td>\n",
       "      <td>0.020203</td>\n",
       "    </tr>\n",
       "    <tr>\n",
       "      <th>cibil_score</th>\n",
       "      <td>-0.008442</td>\n",
       "      <td>-0.003754</td>\n",
       "      <td>-0.004163</td>\n",
       "      <td>-0.036682</td>\n",
       "      <td>-0.026847</td>\n",
       "      <td>0.008453</td>\n",
       "      <td>1.000000</td>\n",
       "      <td>-0.043259</td>\n",
       "      <td>-0.006271</td>\n",
       "      <td>-0.037326</td>\n",
       "      <td>-0.018143</td>\n",
       "    </tr>\n",
       "    <tr>\n",
       "      <th>residential_assets_value</th>\n",
       "      <td>-0.006673</td>\n",
       "      <td>0.015495</td>\n",
       "      <td>0.006839</td>\n",
       "      <td>0.634352</td>\n",
       "      <td>0.588828</td>\n",
       "      <td>0.009412</td>\n",
       "      <td>-0.043259</td>\n",
       "      <td>1.000000</td>\n",
       "      <td>0.402003</td>\n",
       "      <td>0.580027</td>\n",
       "      <td>0.533244</td>\n",
       "    </tr>\n",
       "    <tr>\n",
       "      <th>commercial_assets_value</th>\n",
       "      <td>-0.004101</td>\n",
       "      <td>0.005898</td>\n",
       "      <td>-0.015673</td>\n",
       "      <td>0.633718</td>\n",
       "      <td>0.590508</td>\n",
       "      <td>0.000632</td>\n",
       "      <td>-0.006271</td>\n",
       "      <td>0.402003</td>\n",
       "      <td>1.000000</td>\n",
       "      <td>0.577120</td>\n",
       "      <td>0.550251</td>\n",
       "    </tr>\n",
       "    <tr>\n",
       "      <th>luxury_assets_value</th>\n",
       "      <td>-0.006367</td>\n",
       "      <td>0.015413</td>\n",
       "      <td>0.002447</td>\n",
       "      <td>0.928056</td>\n",
       "      <td>0.858396</td>\n",
       "      <td>0.017262</td>\n",
       "      <td>-0.037326</td>\n",
       "      <td>0.580027</td>\n",
       "      <td>0.577120</td>\n",
       "      <td>1.000000</td>\n",
       "      <td>0.788922</td>\n",
       "    </tr>\n",
       "    <tr>\n",
       "      <th>bank_asset_value</th>\n",
       "      <td>0.005316</td>\n",
       "      <td>0.010710</td>\n",
       "      <td>-0.005404</td>\n",
       "      <td>0.849639</td>\n",
       "      <td>0.782245</td>\n",
       "      <td>0.020203</td>\n",
       "      <td>-0.018143</td>\n",
       "      <td>0.533244</td>\n",
       "      <td>0.550251</td>\n",
       "      <td>0.788922</td>\n",
       "      <td>1.000000</td>\n",
       "    </tr>\n",
       "  </tbody>\n",
       "</table>\n",
       "</div>"
      ],
      "text/plain": [
       "                            no_of_dependents   education   self_employed  \\\n",
       " no_of_dependents                   1.000000   -0.010196        0.007422   \n",
       " education                         -0.010196    1.000000       -0.015505   \n",
       " self_employed                      0.007422   -0.015505        1.000000   \n",
       " income_annum                       0.000256    0.013002        0.002045   \n",
       " loan_amount                       -0.007731    0.011665       -0.000249   \n",
       " loan_term                         -0.012531   -0.008671       -0.003858   \n",
       " cibil_score                       -0.008442   -0.003754       -0.004163   \n",
       " residential_assets_value          -0.006673    0.015495        0.006839   \n",
       " commercial_assets_value           -0.004101    0.005898       -0.015673   \n",
       " luxury_assets_value               -0.006367    0.015413        0.002447   \n",
       " bank_asset_value                   0.005316    0.010710       -0.005404   \n",
       "\n",
       "                            income_annum   loan_amount   loan_term  \\\n",
       " no_of_dependents               0.000256     -0.007731   -0.012531   \n",
       " education                      0.013002      0.011665   -0.008671   \n",
       " self_employed                  0.002045     -0.000249   -0.003858   \n",
       " income_annum                   1.000000      0.928383    0.017354   \n",
       " loan_amount                    0.928383      1.000000    0.018343   \n",
       " loan_term                      0.017354      0.018343    1.000000   \n",
       " cibil_score                   -0.036682     -0.026847    0.008453   \n",
       " residential_assets_value       0.634352      0.588828    0.009412   \n",
       " commercial_assets_value        0.633718      0.590508    0.000632   \n",
       " luxury_assets_value            0.928056      0.858396    0.017262   \n",
       " bank_asset_value               0.849639      0.782245    0.020203   \n",
       "\n",
       "                            cibil_score   residential_assets_value  \\\n",
       " no_of_dependents             -0.008442                  -0.006673   \n",
       " education                    -0.003754                   0.015495   \n",
       " self_employed                -0.004163                   0.006839   \n",
       " income_annum                 -0.036682                   0.634352   \n",
       " loan_amount                  -0.026847                   0.588828   \n",
       " loan_term                     0.008453                   0.009412   \n",
       " cibil_score                   1.000000                  -0.043259   \n",
       " residential_assets_value     -0.043259                   1.000000   \n",
       " commercial_assets_value      -0.006271                   0.402003   \n",
       " luxury_assets_value          -0.037326                   0.580027   \n",
       " bank_asset_value             -0.018143                   0.533244   \n",
       "\n",
       "                            commercial_assets_value   luxury_assets_value  \\\n",
       " no_of_dependents                         -0.004101             -0.006367   \n",
       " education                                 0.005898              0.015413   \n",
       " self_employed                            -0.015673              0.002447   \n",
       " income_annum                              0.633718              0.928056   \n",
       " loan_amount                               0.590508              0.858396   \n",
       " loan_term                                 0.000632              0.017262   \n",
       " cibil_score                              -0.006271             -0.037326   \n",
       " residential_assets_value                  0.402003              0.580027   \n",
       " commercial_assets_value                   1.000000              0.577120   \n",
       " luxury_assets_value                       0.577120              1.000000   \n",
       " bank_asset_value                          0.550251              0.788922   \n",
       "\n",
       "                            bank_asset_value  \n",
       " no_of_dependents                   0.005316  \n",
       " education                          0.010710  \n",
       " self_employed                     -0.005404  \n",
       " income_annum                       0.849639  \n",
       " loan_amount                        0.782245  \n",
       " loan_term                          0.020203  \n",
       " cibil_score                       -0.018143  \n",
       " residential_assets_value           0.533244  \n",
       " commercial_assets_value            0.550251  \n",
       " luxury_assets_value                0.788922  \n",
       " bank_asset_value                   1.000000  "
      ]
     },
     "execution_count": 10,
     "metadata": {},
     "output_type": "execute_result"
    }
   ],
   "source": [
    "corr_df=X_train.corr()\n",
    "corr_df"
   ]
  },
  {
   "cell_type": "code",
   "execution_count": 11,
   "id": "a6305eb5",
   "metadata": {},
   "outputs": [
    {
     "data": {
      "image/png": "[encoded data removed]",
      "text/plain": [
       "<Figure size 1500x1000 with 2 Axes>"
      ]
     },
     "metadata": {},
     "output_type": "display_data"
    }
   ],
   "source": [
    "plt.figure(figsize=(15,10))\n",
    "sns.heatmap(corr_df,annot=True)\n",
    "plt.show()"
   ]
  },
  {
   "cell_type": "code",
   "execution_count": 12,
   "id": "4e0ba243",
   "metadata": {},
   "outputs": [],
   "source": [
    "#create a function of correlation--with this we can select highly correlated features\n",
    "#it will remove the first feature that is correlated with any other feature\n",
    "\n",
    "\n",
    "#traverse thru all the columns of the matrix, then we'll compare each and every col and check if the value is greater than the threshold value\n",
    "#generally, threshold is used as 80-85%\n",
    "def correlation(dataset, threshold):\n",
    "    col_corr=set()     #set of all the names of correlated columns, so that duplicate entries will not go with respect to the columns\n",
    "    corr_matrix=dataset.corr()\n",
    "    for i in range(len(corr_matrix.columns)):\n",
    "        for j in range(i):\n",
    "            if abs(corr_matrix.iloc[i,j])>threshold:  #The threshold parameter determines the correlation coefficient value above which features are considered correlated.\n",
    "                colname=corr_matrix.columns[i]   #getting the name of the column\n",
    "                col_corr.add(colname)\n",
    "    return col_corr\n",
    "    "
   ]
  },
  {
   "cell_type": "code",
   "execution_count": 13,
   "id": "0988e9e5",
   "metadata": {},
   "outputs": [
    {
     "data": {
      "text/plain": [
       "2"
      ]
     },
     "execution_count": 13,
     "metadata": {},
     "output_type": "execute_result"
    }
   ],
   "source": [
    "corr_features=correlation(X_train,0.85)     #to avoid overfitting, performing this on x_train rather than x_test\n",
    "len(set(corr_features))"
   ]
  },
  {
   "cell_type": "code",
   "execution_count": 14,
   "id": "f8ebb60b",
   "metadata": {},
   "outputs": [
    {
     "data": {
      "text/plain": [
       "{' loan_amount', ' luxury_assets_value'}"
      ]
     },
     "execution_count": 14,
     "metadata": {},
     "output_type": "execute_result"
    }
   ],
   "source": [
    "corr_features"
   ]
  },
  {
   "cell_type": "code",
   "execution_count": 15,
   "id": "37f1f283",
   "metadata": {},
   "outputs": [
    {
     "name": "stdout",
     "output_type": "stream",
     "text": [
      "<class 'pandas.core.frame.DataFrame'>\n"
     ]
    }
   ],
   "source": [
    "print(type(X_train))"
   ]
  },
  {
   "cell_type": "code",
   "execution_count": 16,
   "id": "7f56c910",
   "metadata": {},
   "outputs": [],
   "source": [
    "#When features are highly correlated, it means that they provide redundant information, and keeping both may not necessarily improve the performance of your model. \n",
    "\n",
    "column_to_drop = ' luxury_assets_value'\n",
    "\n",
    "X_train.drop(column_to_drop, axis=1,inplace=True)\n",
    "X_test.drop(column_to_drop, axis=1,inplace=True)"
   ]
  },
  {
   "cell_type": "code",
   "execution_count": 17,
   "id": "b3a8ddf3",
   "metadata": {},
   "outputs": [
    {
     "data": {
      "text/html": [
       "<div>\n",
       "<style scoped>\n",
       "    .dataframe tbody tr th:only-of-type {\n",
       "        vertical-align: middle;\n",
       "    }\n",
       "\n",
       "    .dataframe tbody tr th {\n",
       "        vertical-align: top;\n",
       "    }\n",
       "\n",
       "    .dataframe thead th {\n",
       "        text-align: right;\n",
       "    }\n",
       "</style>\n",
       "<table border=\"1\" class=\"dataframe\">\n",
       "  <thead>\n",
       "    <tr style=\"text-align: right;\">\n",
       "      <th></th>\n",
       "      <th>no_of_dependents</th>\n",
       "      <th>education</th>\n",
       "      <th>self_employed</th>\n",
       "      <th>income_annum</th>\n",
       "      <th>loan_amount</th>\n",
       "      <th>loan_term</th>\n",
       "      <th>cibil_score</th>\n",
       "      <th>residential_assets_value</th>\n",
       "      <th>commercial_assets_value</th>\n",
       "      <th>bank_asset_value</th>\n",
       "    </tr>\n",
       "  </thead>\n",
       "  <tbody>\n",
       "    <tr>\n",
       "      <th>3404</th>\n",
       "      <td>4</td>\n",
       "      <td>0</td>\n",
       "      <td>0</td>\n",
       "      <td>2800000</td>\n",
       "      <td>8300000</td>\n",
       "      <td>14</td>\n",
       "      <td>381</td>\n",
       "      <td>3200000</td>\n",
       "      <td>1100000</td>\n",
       "      <td>1500000</td>\n",
       "    </tr>\n",
       "    <tr>\n",
       "      <th>781</th>\n",
       "      <td>3</td>\n",
       "      <td>0</td>\n",
       "      <td>1</td>\n",
       "      <td>9900000</td>\n",
       "      <td>20400000</td>\n",
       "      <td>4</td>\n",
       "      <td>865</td>\n",
       "      <td>26300000</td>\n",
       "      <td>3600000</td>\n",
       "      <td>12800000</td>\n",
       "    </tr>\n",
       "    <tr>\n",
       "      <th>3002</th>\n",
       "      <td>4</td>\n",
       "      <td>1</td>\n",
       "      <td>1</td>\n",
       "      <td>3500000</td>\n",
       "      <td>10700000</td>\n",
       "      <td>8</td>\n",
       "      <td>883</td>\n",
       "      <td>200000</td>\n",
       "      <td>2300000</td>\n",
       "      <td>2000000</td>\n",
       "    </tr>\n",
       "    <tr>\n",
       "      <th>4047</th>\n",
       "      <td>3</td>\n",
       "      <td>0</td>\n",
       "      <td>0</td>\n",
       "      <td>6400000</td>\n",
       "      <td>23000000</td>\n",
       "      <td>8</td>\n",
       "      <td>520</td>\n",
       "      <td>12100000</td>\n",
       "      <td>11400000</td>\n",
       "      <td>3800000</td>\n",
       "    </tr>\n",
       "    <tr>\n",
       "      <th>3391</th>\n",
       "      <td>2</td>\n",
       "      <td>1</td>\n",
       "      <td>1</td>\n",
       "      <td>3300000</td>\n",
       "      <td>6700000</td>\n",
       "      <td>8</td>\n",
       "      <td>845</td>\n",
       "      <td>1300000</td>\n",
       "      <td>4600000</td>\n",
       "      <td>3200000</td>\n",
       "    </tr>\n",
       "    <tr>\n",
       "      <th>...</th>\n",
       "      <td>...</td>\n",
       "      <td>...</td>\n",
       "      <td>...</td>\n",
       "      <td>...</td>\n",
       "      <td>...</td>\n",
       "      <td>...</td>\n",
       "      <td>...</td>\n",
       "      <td>...</td>\n",
       "      <td>...</td>\n",
       "      <td>...</td>\n",
       "    </tr>\n",
       "    <tr>\n",
       "      <th>3444</th>\n",
       "      <td>0</td>\n",
       "      <td>1</td>\n",
       "      <td>1</td>\n",
       "      <td>1300000</td>\n",
       "      <td>4700000</td>\n",
       "      <td>16</td>\n",
       "      <td>530</td>\n",
       "      <td>3200000</td>\n",
       "      <td>1000000</td>\n",
       "      <td>800000</td>\n",
       "    </tr>\n",
       "    <tr>\n",
       "      <th>466</th>\n",
       "      <td>5</td>\n",
       "      <td>0</td>\n",
       "      <td>1</td>\n",
       "      <td>500000</td>\n",
       "      <td>1800000</td>\n",
       "      <td>18</td>\n",
       "      <td>411</td>\n",
       "      <td>1000000</td>\n",
       "      <td>500000</td>\n",
       "      <td>200000</td>\n",
       "    </tr>\n",
       "    <tr>\n",
       "      <th>3092</th>\n",
       "      <td>4</td>\n",
       "      <td>0</td>\n",
       "      <td>1</td>\n",
       "      <td>8600000</td>\n",
       "      <td>20600000</td>\n",
       "      <td>16</td>\n",
       "      <td>449</td>\n",
       "      <td>10800000</td>\n",
       "      <td>10600000</td>\n",
       "      <td>5400000</td>\n",
       "    </tr>\n",
       "    <tr>\n",
       "      <th>3772</th>\n",
       "      <td>2</td>\n",
       "      <td>0</td>\n",
       "      <td>1</td>\n",
       "      <td>7000000</td>\n",
       "      <td>21400000</td>\n",
       "      <td>12</td>\n",
       "      <td>541</td>\n",
       "      <td>3700000</td>\n",
       "      <td>1300000</td>\n",
       "      <td>9600000</td>\n",
       "    </tr>\n",
       "    <tr>\n",
       "      <th>860</th>\n",
       "      <td>4</td>\n",
       "      <td>1</td>\n",
       "      <td>0</td>\n",
       "      <td>6200000</td>\n",
       "      <td>17300000</td>\n",
       "      <td>6</td>\n",
       "      <td>837</td>\n",
       "      <td>12600000</td>\n",
       "      <td>3700000</td>\n",
       "      <td>4600000</td>\n",
       "    </tr>\n",
       "  </tbody>\n",
       "</table>\n",
       "<p>2988 rows × 10 columns</p>\n",
       "</div>"
      ],
      "text/plain": [
       "       no_of_dependents   education   self_employed   income_annum  \\\n",
       "3404                  4           0               0        2800000   \n",
       "781                   3           0               1        9900000   \n",
       "3002                  4           1               1        3500000   \n",
       "4047                  3           0               0        6400000   \n",
       "3391                  2           1               1        3300000   \n",
       "...                 ...         ...             ...            ...   \n",
       "3444                  0           1               1        1300000   \n",
       "466                   5           0               1         500000   \n",
       "3092                  4           0               1        8600000   \n",
       "3772                  2           0               1        7000000   \n",
       "860                   4           1               0        6200000   \n",
       "\n",
       "       loan_amount   loan_term   cibil_score   residential_assets_value  \\\n",
       "3404       8300000          14           381                    3200000   \n",
       "781       20400000           4           865                   26300000   \n",
       "3002      10700000           8           883                     200000   \n",
       "4047      23000000           8           520                   12100000   \n",
       "3391       6700000           8           845                    1300000   \n",
       "...            ...         ...           ...                        ...   \n",
       "3444       4700000          16           530                    3200000   \n",
       "466        1800000          18           411                    1000000   \n",
       "3092      20600000          16           449                   10800000   \n",
       "3772      21400000          12           541                    3700000   \n",
       "860       17300000           6           837                   12600000   \n",
       "\n",
       "       commercial_assets_value   bank_asset_value  \n",
       "3404                   1100000            1500000  \n",
       "781                    3600000           12800000  \n",
       "3002                   2300000            2000000  \n",
       "4047                  11400000            3800000  \n",
       "3391                   4600000            3200000  \n",
       "...                        ...                ...  \n",
       "3444                   1000000             800000  \n",
       "466                     500000             200000  \n",
       "3092                  10600000            5400000  \n",
       "3772                   1300000            9600000  \n",
       "860                    3700000            4600000  \n",
       "\n",
       "[2988 rows x 10 columns]"
      ]
     },
     "execution_count": 17,
     "metadata": {},
     "output_type": "execute_result"
    }
   ],
   "source": [
    "X_train"
   ]
  },
  {
   "cell_type": "markdown",
   "id": "38d5b594",
   "metadata": {},
   "source": [
    "# Using Ensemble Method for the feature selection process using the above filtered X_train"
   ]
  },
  {
   "cell_type": "code",
   "execution_count": 18,
   "id": "ab645187",
   "metadata": {},
   "outputs": [
    {
     "name": "stdout",
     "output_type": "stream",
     "text": [
      "Feature Importances:\n",
      "                     Feature  Importance\n",
      "6                cibil_score    0.828466\n",
      "5                  loan_term    0.059040\n",
      "4                loan_amount    0.028678\n",
      "3               income_annum    0.019529\n",
      "7   residential_assets_value    0.018138\n",
      "9           bank_asset_value    0.017222\n",
      "8    commercial_assets_value    0.016828\n",
      "0           no_of_dependents    0.007086\n",
      "2              self_employed    0.002576\n",
      "1                  education    0.002437\n"
     ]
    }
   ],
   "source": [
    "from sklearn.ensemble import RandomForestClassifier\n",
    "rf_model = RandomForestClassifier(n_estimators=100, random_state=42)\n",
    "rf_model.fit(X_train, y_train)\n",
    "\n",
    "feature_importances = rf_model.feature_importances_\n",
    "\n",
    "feature_names = X_train.columns\n",
    "\n",
    "#dataframe to store feature names and their importances\n",
    "feature_importance_df = pd.DataFrame({'Feature': feature_names, 'Importance': feature_importances})\n",
    "\n",
    "# to sort the DataFrame by importance in descending order\n",
    "feature_importance_df = feature_importance_df.sort_values(by='Importance', ascending=False)\n",
    "\n",
    "print(\"Feature Importances:\")\n",
    "print(feature_importance_df)"
   ]
  },
  {
   "cell_type": "code",
   "execution_count": 19,
   "id": "797a4b77",
   "metadata": {},
   "outputs": [
    {
     "name": "stdout",
     "output_type": "stream",
     "text": [
      "Selected Features:\n",
      "6                  cibil_score\n",
      "5                    loan_term\n",
      "4                  loan_amount\n",
      "3                 income_annum\n",
      "7     residential_assets_value\n",
      "9             bank_asset_value\n",
      "8      commercial_assets_value\n",
      "Name: Feature, dtype: object\n"
     ]
    }
   ],
   "source": [
    "# Select only the important features based on the threshold\n",
    "selected_features = feature_importance_df[feature_importance_df['Importance'] >= 0.01]['Feature']\n",
    "\n",
    "# Create a new DataFrame with only the selected features\n",
    "X_train_selected = X_train[selected_features]\n",
    "\n",
    "# Print or use the selected features\n",
    "print(\"Selected Features:\")\n",
    "print(selected_features)\n",
    "\n",
    "# Use X_train_selected for further analysis or model training\n"
   ]
  },
  {
   "cell_type": "code",
   "execution_count": 20,
   "id": "eb9fcd33",
   "metadata": {},
   "outputs": [
    {
     "data": {
      "text/html": [
       "<div>\n",
       "<style scoped>\n",
       "    .dataframe tbody tr th:only-of-type {\n",
       "        vertical-align: middle;\n",
       "    }\n",
       "\n",
       "    .dataframe tbody tr th {\n",
       "        vertical-align: top;\n",
       "    }\n",
       "\n",
       "    .dataframe thead th {\n",
       "        text-align: right;\n",
       "    }\n",
       "</style>\n",
       "<table border=\"1\" class=\"dataframe\">\n",
       "  <thead>\n",
       "    <tr style=\"text-align: right;\">\n",
       "      <th></th>\n",
       "      <th>cibil_score</th>\n",
       "      <th>loan_term</th>\n",
       "      <th>loan_amount</th>\n",
       "      <th>income_annum</th>\n",
       "      <th>residential_assets_value</th>\n",
       "      <th>bank_asset_value</th>\n",
       "      <th>commercial_assets_value</th>\n",
       "    </tr>\n",
       "  </thead>\n",
       "  <tbody>\n",
       "    <tr>\n",
       "      <th>2841</th>\n",
       "      <td>664</td>\n",
       "      <td>6</td>\n",
       "      <td>30900000</td>\n",
       "      <td>8500000</td>\n",
       "      <td>5700000</td>\n",
       "      <td>7400000</td>\n",
       "      <td>9900000</td>\n",
       "    </tr>\n",
       "    <tr>\n",
       "      <th>2455</th>\n",
       "      <td>476</td>\n",
       "      <td>6</td>\n",
       "      <td>19700000</td>\n",
       "      <td>8400000</td>\n",
       "      <td>24700000</td>\n",
       "      <td>12100000</td>\n",
       "      <td>16500000</td>\n",
       "    </tr>\n",
       "    <tr>\n",
       "      <th>1986</th>\n",
       "      <td>876</td>\n",
       "      <td>6</td>\n",
       "      <td>500000</td>\n",
       "      <td>300000</td>\n",
       "      <td>300000</td>\n",
       "      <td>300000</td>\n",
       "      <td>100000</td>\n",
       "    </tr>\n",
       "    <tr>\n",
       "      <th>1698</th>\n",
       "      <td>866</td>\n",
       "      <td>4</td>\n",
       "      <td>18900000</td>\n",
       "      <td>4800000</td>\n",
       "      <td>10200000</td>\n",
       "      <td>5900000</td>\n",
       "      <td>6000000</td>\n",
       "    </tr>\n",
       "    <tr>\n",
       "      <th>1585</th>\n",
       "      <td>473</td>\n",
       "      <td>10</td>\n",
       "      <td>30500000</td>\n",
       "      <td>8300000</td>\n",
       "      <td>13300000</td>\n",
       "      <td>11800000</td>\n",
       "      <td>9400000</td>\n",
       "    </tr>\n",
       "    <tr>\n",
       "      <th>...</th>\n",
       "      <td>...</td>\n",
       "      <td>...</td>\n",
       "      <td>...</td>\n",
       "      <td>...</td>\n",
       "      <td>...</td>\n",
       "      <td>...</td>\n",
       "      <td>...</td>\n",
       "    </tr>\n",
       "    <tr>\n",
       "      <th>1394</th>\n",
       "      <td>739</td>\n",
       "      <td>12</td>\n",
       "      <td>21600000</td>\n",
       "      <td>7000000</td>\n",
       "      <td>1600000</td>\n",
       "      <td>8400000</td>\n",
       "      <td>7600000</td>\n",
       "    </tr>\n",
       "    <tr>\n",
       "      <th>2241</th>\n",
       "      <td>779</td>\n",
       "      <td>8</td>\n",
       "      <td>3800000</td>\n",
       "      <td>1100000</td>\n",
       "      <td>600000</td>\n",
       "      <td>1600000</td>\n",
       "      <td>1800000</td>\n",
       "    </tr>\n",
       "    <tr>\n",
       "      <th>71</th>\n",
       "      <td>386</td>\n",
       "      <td>4</td>\n",
       "      <td>18600000</td>\n",
       "      <td>5300000</td>\n",
       "      <td>2700000</td>\n",
       "      <td>4200000</td>\n",
       "      <td>9700000</td>\n",
       "    </tr>\n",
       "    <tr>\n",
       "      <th>1199</th>\n",
       "      <td>383</td>\n",
       "      <td>2</td>\n",
       "      <td>600000</td>\n",
       "      <td>300000</td>\n",
       "      <td>600000</td>\n",
       "      <td>400000</td>\n",
       "      <td>300000</td>\n",
       "    </tr>\n",
       "    <tr>\n",
       "      <th>2740</th>\n",
       "      <td>383</td>\n",
       "      <td>14</td>\n",
       "      <td>37300000</td>\n",
       "      <td>9400000</td>\n",
       "      <td>7800000</td>\n",
       "      <td>7700000</td>\n",
       "      <td>15900000</td>\n",
       "    </tr>\n",
       "  </tbody>\n",
       "</table>\n",
       "<p>2390 rows × 7 columns</p>\n",
       "</div>"
      ],
      "text/plain": [
       "       cibil_score   loan_term   loan_amount   income_annum  \\\n",
       "2841           664           6      30900000        8500000   \n",
       "2455           476           6      19700000        8400000   \n",
       "1986           876           6        500000         300000   \n",
       "1698           866           4      18900000        4800000   \n",
       "1585           473          10      30500000        8300000   \n",
       "...            ...         ...           ...            ...   \n",
       "1394           739          12      21600000        7000000   \n",
       "2241           779           8       3800000        1100000   \n",
       "71             386           4      18600000        5300000   \n",
       "1199           383           2        600000         300000   \n",
       "2740           383          14      37300000        9400000   \n",
       "\n",
       "       residential_assets_value   bank_asset_value   commercial_assets_value  \n",
       "2841                    5700000            7400000                   9900000  \n",
       "2455                   24700000           12100000                  16500000  \n",
       "1986                     300000             300000                    100000  \n",
       "1698                   10200000            5900000                   6000000  \n",
       "1585                   13300000           11800000                   9400000  \n",
       "...                         ...                ...                       ...  \n",
       "1394                    1600000            8400000                   7600000  \n",
       "2241                     600000            1600000                   1800000  \n",
       "71                      2700000            4200000                   9700000  \n",
       "1199                     600000             400000                    300000  \n",
       "2740                    7800000            7700000                  15900000  \n",
       "\n",
       "[2390 rows x 7 columns]"
      ]
     },
     "execution_count": 20,
     "metadata": {},
     "output_type": "execute_result"
    }
   ],
   "source": [
    "from sklearn.model_selection import train_test_split\n",
    "\n",
    "# Split the data into training and testing sets\n",
    "X_train_selected, X_test_selected, y_train, y_test = train_test_split(X_train_selected, y_train, test_size=0.2,random_state=42)\n",
    "\n",
    "X_train_selected"
   ]
  },
  {
   "cell_type": "markdown",
   "id": "e75bf226",
   "metadata": {},
   "source": [
    "# LINEAR REGRESSION"
   ]
  },
  {
   "cell_type": "code",
   "execution_count": 21,
   "id": "cd5b63e3",
   "metadata": {},
   "outputs": [
    {
     "data": {
      "text/plain": [
       "0.30269970280228664"
      ]
     },
     "execution_count": 21,
     "metadata": {},
     "output_type": "execute_result"
    }
   ],
   "source": [
    "from sklearn.linear_model import LinearRegression\n",
    "lin_reg=LinearRegression()\n",
    "lin_reg.fit(X_train_selected, y_train)\n",
    "y_pred=lin_reg.predict(X_test_selected)\n",
    "from sklearn.metrics import mean_squared_error, mean_absolute_error\n",
    "error=np.sqrt(mean_squared_error(y_test,y_pred))\n",
    "error"
   ]
  },
  {
   "cell_type": "code",
   "execution_count": 22,
   "id": "1aa588cd",
   "metadata": {},
   "outputs": [
    {
     "data": {
      "text/plain": [
       "0.24516016723921188"
      ]
     },
     "execution_count": 22,
     "metadata": {},
     "output_type": "execute_result"
    }
   ],
   "source": [
    "mae = mean_absolute_error(y_test, y_pred)\n",
    "mae"
   ]
  },
  {
   "cell_type": "markdown",
   "id": "bec78249",
   "metadata": {},
   "source": [
    "# LOGISTIC REGRESSION"
   ]
  },
  {
   "cell_type": "code",
   "execution_count": 23,
   "id": "1f924f91",
   "metadata": {},
   "outputs": [],
   "source": [
    "from sklearn.linear_model import LogisticRegression\n",
    "log_reg=LogisticRegression()\n",
    "log_reg.fit(X_train_selected, y_train)\n",
    "#making predictions\n",
    "y_pred=log_reg.predict(X_test_selected)"
   ]
  },
  {
   "cell_type": "code",
   "execution_count": 24,
   "id": "c389a0d9",
   "metadata": {},
   "outputs": [
    {
     "name": "stdout",
     "output_type": "stream",
     "text": [
      "0.7424749163879598\n"
     ]
    }
   ],
   "source": [
    "from sklearn.metrics import accuracy_score, classification_report, confusion_matrix\n",
    "accuracy=accuracy_score(y_test, y_pred)\n",
    "print(accuracy)"
   ]
  },
  {
   "cell_type": "markdown",
   "id": "519c2080",
   "metadata": {},
   "source": [
    "# Ensemble Method: RandomForestClassifier"
   ]
  },
  {
   "cell_type": "code",
   "execution_count": 25,
   "id": "04c2dec9",
   "metadata": {},
   "outputs": [
    {
     "name": "stdout",
     "output_type": "stream",
     "text": [
      "Accuracy Score:  0.9849498327759197\n"
     ]
    }
   ],
   "source": [
    "from sklearn.ensemble import RandomForestClassifier\n",
    "# Initialize RandomForestClassifier\n",
    "rf_classifier = RandomForestClassifier(n_estimators=100, random_state=42)\n",
    "# Train the model\n",
    "rf_classifier.fit(X_train_selected, y_train)\n",
    "# Make predictions on the test set\n",
    "y_pred = rf_classifier.predict(X_test_selected)\n",
    "accuracy = accuracy_score(y_test, y_pred)\n",
    "print(\"Accuracy Score: \", accuracy)"
   ]
  },
  {
   "cell_type": "markdown",
   "id": "48528d55",
   "metadata": {},
   "source": [
    "# BAGGING cLASSifier"
   ]
  },
  {
   "cell_type": "code",
   "execution_count": 26,
   "id": "92d79994",
   "metadata": {},
   "outputs": [
    {
     "name": "stdout",
     "output_type": "stream",
     "text": [
      "Accuracy: 0.9849\n"
     ]
    }
   ],
   "source": [
    "from sklearn.ensemble import BaggingClassifier\n",
    "from sklearn.tree import DecisionTreeClassifier\n",
    "# Initialize a base model (e.g., Decision Tree)\n",
    "base_model = DecisionTreeClassifier(random_state=42)\n",
    "# Initialize a BaggingClassifier\n",
    "bagging_model = BaggingClassifier(base_model, n_estimators=50, random_state=42)\n",
    "\n",
    "# Train the BaggingClassifier\n",
    "bagging_model.fit(X_train_selected, y_train)\n",
    "\n",
    "# Make predictions on the test set\n",
    "y_pred = bagging_model.predict(X_test_selected)\n",
    "\n",
    "# Evaluate accuracy\n",
    "accuracy = accuracy_score(y_test, y_pred)\n",
    "print(f'Accuracy: {accuracy:.4f}')"
   ]
  },
  {
   "cell_type": "markdown",
   "id": "3434da07",
   "metadata": {},
   "source": [
    "# prediction"
   ]
  },
  {
   "cell_type": "code",
   "execution_count": 27,
   "id": "605e9dd9",
   "metadata": {},
   "outputs": [
    {
     "name": "stdout",
     "output_type": "stream",
     "text": [
      "[1]\n",
      "Loan is approved\n"
     ]
    },
    {
     "name": "stderr",
     "output_type": "stream",
     "text": [
      "C:\\Users\\admin\\anaconda3\\lib\\site-packages\\sklearn\\base.py:420: UserWarning: X does not have valid feature names, but RandomForestClassifier was fitted with feature names\n",
      "  warnings.warn(\n"
     ]
    }
   ],
   "source": [
    "input_data=(417,8,12200000,4100000,2700000,3300000,2200000)\n",
    "\n",
    "#changing the input_data to the numpy array as the processing is faster and easy than list\n",
    "input_data_as_numpy=np.asarray(input_data)\n",
    "\n",
    "#reshape the array as predicting for the particular instance\n",
    "input_data_reshaped=input_data_as_numpy.reshape(1,-1)  #1 as there is one instance\n",
    "\n",
    "prediction=rf_classifier.predict(input_data_reshaped)\n",
    "print(prediction)\n",
    "    \n",
    "if(prediction[0]==1):           #prediction[0]->first element of the list\n",
    "    print(\"Loan is approved\")\n",
    "else:\n",
    "    print(\"Loan is not approved\")"
   ]
  },
  {
   "cell_type": "markdown",
   "id": "f74ec04b",
   "metadata": {},
   "source": [
    "# UI using tkinter"
   ]
  },
  {
   "cell_type": "code",
   "execution_count": null,
   "id": "80bdc6e4",
   "metadata": {},
   "outputs": [
    {
     "name": "stderr",
     "output_type": "stream",
     "text": [
      "C:\\Users\\admin\\anaconda3\\lib\\site-packages\\sklearn\\base.py:420: UserWarning: X does not have valid feature names, but RandomForestClassifier was fitted with feature names\n",
      "  warnings.warn(\n"
     ]
    }
   ],
   "source": [
    "import tkinter as tk\n",
    "from tkinter import Label, Button, Entry\n",
    "import numpy as np\n",
    "\n",
    "# Assuming `rf_classifier` is your trained random forest classifier\n",
    "\n",
    "def predict_loan_approval():\n",
    "    # Get user input from Entry widgets\n",
    "    cibil_score = float(cibil_score_entry.get())\n",
    "    loan_term = float(loan_term_entry.get())\n",
    "    loan_amount = float(loan_amount_entry.get())\n",
    "    income_annum = float(income_annum_entry.get())\n",
    "    residential_assets_value = float(residential_assets_value_entry.get())\n",
    "    bank_asset_value = float(bank_asset_value_entry.get())\n",
    "    commercial_assets_value = float(commercial_assets_value_entry.get())\n",
    "\n",
    "    # Create input data as a numpy array\n",
    "    input_data = np.asarray((cibil_score, loan_term, loan_amount, income_annum,\n",
    "                             residential_assets_value, bank_asset_value, commercial_assets_value))\n",
    "\n",
    "    # Reshape the array for prediction\n",
    "    input_data_reshaped = input_data.reshape(1, -1)\n",
    "\n",
    "    # Make prediction\n",
    "    prediction = rf_classifier.predict(input_data_reshaped)\n",
    "\n",
    "    # Update result_label based on the prediction\n",
    "    if prediction[0] == 1:\n",
    "        result_label.config(text=\"Loan is approved\", fg=\"green\")\n",
    "    else:\n",
    "        result_label.config(text=\"Loan is not approved\", fg=\"red\")\n",
    "\n",
    "# Create main application window\n",
    "app = tk.Tk()\n",
    "app.title(\"Loan Approval Predictor\")\n",
    "\n",
    "# Create and place Entry widgets for user input\n",
    "cibil_score_label = Label(app, text=\"CIBIL Score:\")\n",
    "cibil_score_label.grid(row=0, column=0)\n",
    "cibil_score_entry = Entry(app)\n",
    "cibil_score_entry.grid(row=0, column=1)\n",
    "\n",
    "loan_term_label = Label(app, text=\"Loan Term:\")\n",
    "loan_term_label.grid(row=1, column=0)\n",
    "loan_term_entry = Entry(app)\n",
    "loan_term_entry.grid(row=1, column=1)\n",
    "\n",
    "loan_amount_label = Label(app, text=\"Loan Amount:\")\n",
    "loan_amount_label.grid(row=2, column=0)\n",
    "loan_amount_entry = Entry(app)\n",
    "loan_amount_entry.grid(row=2, column=1)\n",
    "\n",
    "income_annum_label = Label(app, text=\"Income Annually:\")\n",
    "income_annum_label.grid(row=3, column=0)\n",
    "income_annum_entry = Entry(app)\n",
    "income_annum_entry.grid(row=3, column=1)\n",
    "\n",
    "residential_assets_value_label = Label(app, text=\"Residential Assets Value:\")\n",
    "residential_assets_value_label.grid(row=4, column=0)\n",
    "residential_assets_value_entry = Entry(app)\n",
    "residential_assets_value_entry.grid(row=4, column=1)\n",
    "\n",
    "bank_asset_value_label = Label(app, text=\"Bank Asset Value:\")\n",
    "bank_asset_value_label.grid(row=5, column=0)\n",
    "bank_asset_value_entry = Entry(app)\n",
    "bank_asset_value_entry.grid(row=5, column=1)\n",
    "\n",
    "commercial_assets_value_label = Label(app, text=\"Commercial Assets Value:\")\n",
    "commercial_assets_value_label.grid(row=6, column=0)\n",
    "commercial_assets_value_entry = Entry(app)\n",
    "commercial_assets_value_entry.grid(row=6, column=1)\n",
    "\n",
    "# Create and place Button widget for prediction\n",
    "predict_button = Button(app, text=\"Predict\", command=predict_loan_approval)\n",
    "predict_button.grid(row=7, column=0, columnspan=2)\n",
    "\n",
    "# Create and place Label widget for displaying the result\n",
    "result_label = Label(app, text=\"\", font=(\"Helvetica\", 14))\n",
    "result_label.grid(row=8, column=0, columnspan=2)\n",
    "\n",
    "# Start the application main loop\n",
    "app.mainloop()\n"
   ]
  },
  {
   "cell_type": "markdown",
   "id": "5494df2f",
   "metadata": {},
   "source": [
    "# UI using gradio"
   ]
  },
  {
   "cell_type": "code",
   "execution_count": 32,
   "id": "17bde92b",
   "metadata": {},
   "outputs": [
    {
     "name": "stdout",
     "output_type": "stream",
     "text": [
      "Running on local URL:  http://127.0.0.1:7862\n",
      "\n",
      "To create a public link, set `share=True` in `launch()`.\n"
     ]
    },
    {
     "data": {
      "text/html": [
       "<div><iframe src=\"http://127.0.0.1:7862/\" width=\"100%\" height=\"500\" allow=\"autoplay; camera; microphone; clipboard-read; clipboard-write;\" frameborder=\"0\" allowfullscreen></iframe></div>"
      ],
      "text/plain": [
       "<IPython.core.display.HTML object>"
      ]
     },
     "metadata": {},
     "output_type": "display_data"
    },
    {
     "data": {
      "text/plain": []
     },
     "execution_count": 32,
     "metadata": {},
     "output_type": "execute_result"
    }
   ],
   "source": [
    "import gradio as gr\n",
    "import numpy as np\n",
    "\n",
    "# Assuming `rf_classifier` is your trained random forest classifier\n",
    "\n",
    "# Function to make predictions\n",
    "def predict_loan_approval(cibil_score, loan_term, loan_amount, income_annum, residential_assets_value,\n",
    "                           bank_asset_value, commercial_assets_value):\n",
    "    # Create input data as a numpy array\n",
    "    input_data = np.asarray([cibil_score, loan_term, loan_amount, income_annum,\n",
    "                             residential_assets_value, bank_asset_value, commercial_assets_value])\n",
    "\n",
    "    # Reshape the array for prediction\n",
    "    input_data_reshaped = input_data.reshape(1, -1)\n",
    "\n",
    "    # Make prediction\n",
    "    prediction = rf_classifier.predict(input_data_reshaped)\n",
    "\n",
    "    # Return the prediction result\n",
    "    return \"Loan is approved\" if prediction[0] == 1 else \"Loan is not approved\"\n",
    "\n",
    "# Define input components for Gradio UI\n",
    "input_components = [\n",
    "    gr.Textbox(\"number\", label=\"CIBIL Score\"),\n",
    "    gr.Textbox(\"number\", label=\"Loan Term\"),\n",
    "    gr.Textbox(\"number\", label=\"Loan Amount\"),\n",
    "    gr.Textbox(\"number\", label=\"Income Annually\"),\n",
    "    gr.Textbox(\"number\", label=\"Residential Assets Value\"),\n",
    "    gr.Textbox(\"number\", label=\"Bank Asset Value\"),\n",
    "    gr.Textbox(\"number\", label=\"Commercial Assets Value\")\n",
    "]\n",
    "\n",
    "# Create Gradio interface\n",
    "iface = gr.Interface(\n",
    "    fn=predict_loan_approval,\n",
    "    inputs=input_components,\n",
    "    outputs=\"text\"\n",
    ")\n",
    "\n",
    "# Launch the Gradio interface\n",
    "iface.launch()\n"
   ]
  },
  {
   "cell_type": "code",
   "execution_count": null,
   "id": "e6d8ec27",
   "metadata": {},
   "outputs": [],
   "source": []
  }
 ],
 "metadata": {
  "kernelspec": {
   "display_name": "Python 3 (ipykernel)",
   "language": "python",
   "name": "python3"
  },
  "language_info": {
   "codemirror_mode": {
    "name": "ipython",
    "version": 3
   },
   "file_extension": ".py",
   "mimetype": "text/x-python",
   "name": "python",
   "nbconvert_exporter": "python",
   "pygments_lexer": "ipython3",
   "version": "3.10.9"
  }
 },
 "nbformat": 4,
 "nbformat_minor": 5
}
